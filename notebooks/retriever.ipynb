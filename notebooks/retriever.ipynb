{
 "cells": [
  {
   "cell_type": "code",
   "execution_count": 1,
   "metadata": {},
   "outputs": [],
   "source": [
    "import sys\n",
    "sys.path.append('../')"
   ]
  },
  {
   "cell_type": "code",
   "execution_count": 2,
   "metadata": {},
   "outputs": [],
   "source": [
    "import clip\n",
    "import torch\n",
    "\n",
    "device = \"cuda\" if torch.cuda.is_available() else \"cpu\"\n",
    "model, preprocess = clip.load('ViT-B/32', device)"
   ]
  },
  {
   "cell_type": "code",
   "execution_count": null,
   "metadata": {},
   "outputs": [],
   "source": [
    "import os\n",
    "from PIL import Image\n",
    "from IPython.display import display\n",
    "from src.raclip_modules.retriever import Retriever\n",
    "\n",
    "image = Image.open('../resources/images/dog.jpg')\n",
    "display(image)\n",
    "\n",
    "image_input = preprocess(image).unsqueeze(0).to(device)\n",
    "image_embedding = model.encode_image(image_input)\n",
    "\n",
    "retriever = Retriever()\n",
    "top_meta_data, _, _ = retriever.retrieve_similar_for_image(image_embedding, 4)\n",
    "\n",
    "print('Retrieved Images:')\n",
    "for meta in top_meta_data:\n",
    "    retrieved_image = Image.open(os.path.join('../', meta['image_path']))\n",
    "    display(retrieved_image)\n",
    "    print(meta['description'])"
   ]
  }
 ],
 "metadata": {
  "kernelspec": {
   "display_name": "impart",
   "language": "python",
   "name": "python3"
  },
  "language_info": {
   "codemirror_mode": {
    "name": "ipython",
    "version": 3
   },
   "file_extension": ".py",
   "mimetype": "text/x-python",
   "name": "python",
   "nbconvert_exporter": "python",
   "pygments_lexer": "ipython3",
   "version": "3.11.9"
  },
  "orig_nbformat": 4
 },
 "nbformat": 4,
 "nbformat_minor": 2
}
