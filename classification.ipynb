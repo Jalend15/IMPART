{
 "cells": [
  {
   "cell_type": "code",
   "execution_count": 1,
   "metadata": {},
   "outputs": [],
   "source": [
    "from classification.clip_classifier import ClipClassifier\n",
    "from torchvision.datasets import CIFAR100, CIFAR10, Caltech101\n",
    "\n",
    "classifier = ClipClassifier()"
   ]
  },
  {
   "cell_type": "code",
   "execution_count": 4,
   "metadata": {},
   "outputs": [
    {
     "name": "stdout",
     "output_type": "stream",
     "text": [
      "Files already downloaded and verified\n"
     ]
    },
    {
     "name": "stderr",
     "output_type": "stream",
     "text": [
      "100%|██████████| 100/100 [01:44<00:00,  1.04s/it]"
     ]
    },
    {
     "name": "stdout",
     "output_type": "stream",
     "text": [
      "Accuracy: 88.80\n"
     ]
    },
    {
     "name": "stderr",
     "output_type": "stream",
     "text": [
      "\n"
     ]
    }
   ],
   "source": [
    "cifar10_testset = CIFAR10(root='.cache/datasets', download=True, train=False, transform=classifier.preprocess)\n",
    "classifier.evaluate_testset(cifar10_testset, cifar10_testset.classes)"
   ]
  },
  {
   "cell_type": "code",
   "execution_count": 5,
   "metadata": {},
   "outputs": [
    {
     "name": "stdout",
     "output_type": "stream",
     "text": [
      "Files already downloaded and verified\n"
     ]
    },
    {
     "name": "stderr",
     "output_type": "stream",
     "text": [
      "100%|██████████| 100/100 [01:43<00:00,  1.03s/it]"
     ]
    },
    {
     "name": "stdout",
     "output_type": "stream",
     "text": [
      "Accuracy: 61.71\n"
     ]
    },
    {
     "name": "stderr",
     "output_type": "stream",
     "text": [
      "\n"
     ]
    }
   ],
   "source": [
    "cifar100_testset = CIFAR100(root='.cache/datasets', download=True, train=False, transform=classifier.preprocess)\n",
    "classifier.evaluate_testset(cifar100_testset, cifar100_testset.classes)"
   ]
  },
  {
   "cell_type": "code",
   "execution_count": 2,
   "metadata": {},
   "outputs": [
    {
     "name": "stdout",
     "output_type": "stream",
     "text": [
      "Files already downloaded and verified\n"
     ]
    },
    {
     "name": "stderr",
     "output_type": "stream",
     "text": [
      "100%|██████████| 87/87 [01:38<00:00,  1.14s/it]"
     ]
    },
    {
     "name": "stdout",
     "output_type": "stream",
     "text": [
      "Accuracy: 85.01\n"
     ]
    },
    {
     "name": "stderr",
     "output_type": "stream",
     "text": [
      "\n"
     ]
    }
   ],
   "source": [
    "caltech101_testset = Caltech101(root='.cache/datasets', download=True, transform=classifier.preprocess)\n",
    "classifier.evaluate_testset(caltech101_testset, caltech101_testset.categories)"
   ]
  },
  {
   "cell_type": "code",
   "execution_count": 3,
   "metadata": {},
   "outputs": [
    {
     "name": "stdout",
     "output_type": "stream",
     "text": [
      "╒════════════╤════════╕\n",
      "│            │   CLIP │\n",
      "╞════════════╪════════╡\n",
      "│ CIFAR10    │  88.8  │\n",
      "├────────────┼────────┤\n",
      "│ CIFAR100   │  61.71 │\n",
      "├────────────┼────────┤\n",
      "│ Caltech101 │  85.01 │\n",
      "╘════════════╧════════╛\n"
     ]
    }
   ],
   "source": [
    "from classification import utils\n",
    "\n",
    "utils.display_results()"
   ]
  }
 ],
 "metadata": {
  "kernelspec": {
   "display_name": "impart",
   "language": "python",
   "name": "python3"
  },
  "language_info": {
   "codemirror_mode": {
    "name": "ipython",
    "version": 3
   },
   "file_extension": ".py",
   "mimetype": "text/x-python",
   "name": "python",
   "nbconvert_exporter": "python",
   "pygments_lexer": "ipython3",
   "version": "3.11.9"
  },
  "orig_nbformat": 4
 },
 "nbformat": 4,
 "nbformat_minor": 2
}
