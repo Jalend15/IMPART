{
 "cells": [
  {
   "cell_type": "code",
   "execution_count": 4,
   "metadata": {},
   "outputs": [],
   "source": [
    "from PIL import Image\n",
    "from IPython.display import display\n",
    "from zero_shot_classifier import ZeroShotClassifier\n",
    "from vlm.clip import Clip\n",
    "\n",
    "clf = ZeroShotClassifier()\n",
    "model = Clip()\n",
    "\n",
    "image = Image.open(\"../CLIP.png\")\n",
    "image.show()"
   ]
  },
  {
   "cell_type": "code",
   "execution_count": 2,
   "metadata": {},
   "outputs": [
    {
     "name": "stdout",
     "output_type": "stream",
     "text": [
      "Files already downloaded and verified\n"
     ]
    },
    {
     "name": "stderr",
     "output_type": "stream",
     "text": [
      "100%|██████████| 100/100 [01:43<00:00,  1.03s/it]\n"
     ]
    },
    {
     "name": "stdout",
     "output_type": "stream",
     "text": [
      "Clip accuracy on CIFAR10: 88.80\n",
      "Files already downloaded and verified\n"
     ]
    },
    {
     "name": "stderr",
     "output_type": "stream",
     "text": [
      "100%|██████████| 100/100 [01:42<00:00,  1.03s/it]\n"
     ]
    },
    {
     "name": "stdout",
     "output_type": "stream",
     "text": [
      "Clip accuracy on CIFAR100: 61.71\n",
      "Files already downloaded and verified\n"
     ]
    },
    {
     "name": "stderr",
     "output_type": "stream",
     "text": [
      "100%|██████████| 87/87 [01:37<00:00,  1.13s/it]"
     ]
    },
    {
     "name": "stdout",
     "output_type": "stream",
     "text": [
      "Clip accuracy on Caltech101: 85.01\n"
     ]
    },
    {
     "name": "stderr",
     "output_type": "stream",
     "text": [
      "\n"
     ]
    }
   ],
   "source": [
    "import utils\n",
    "from torchvision.datasets import CIFAR100, CIFAR10, Caltech101\n",
    "\n",
    "cifar10_testset = CIFAR10(root='.cache/datasets', download=True, train=False, transform=model.get_preprocess_transform())\n",
    "model_name, dataset_name, accuracy = clf.evaluate_testset(model, cifar10_testset, cifar10_testset.classes)\n",
    "utils.save_result(model_name, dataset_name, accuracy)\n",
    "\n",
    "cifar100_testset = CIFAR100(root='.cache/datasets', download=True, train=False, transform=model.get_preprocess_transform())\n",
    "model_name, dataset_name, accuracy = clf.evaluate_testset(model, cifar100_testset, cifar100_testset.classes)\n",
    "utils.save_result(model_name, dataset_name, accuracy)\n",
    "\n",
    "caltech101_testset = Caltech101(root='.cache/datasets', download=True, transform=model.get_preprocess_transform())\n",
    "model_name, dataset_name, accuracy = clf.evaluate_testset(model, caltech101_testset, caltech101_testset.categories)\n",
    "utils.save_result(model_name, dataset_name, accuracy)"
   ]
  },
  {
   "cell_type": "code",
   "execution_count": 3,
   "metadata": {},
   "outputs": [
    {
     "name": "stdout",
     "output_type": "stream",
     "text": [
      "╒════════════╤════════╕\n",
      "│            │   Clip │\n",
      "╞════════════╪════════╡\n",
      "│ CIFAR10    │  88.8  │\n",
      "├────────────┼────────┤\n",
      "│ CIFAR100   │  61.71 │\n",
      "├────────────┼────────┤\n",
      "│ Caltech101 │  85.01 │\n",
      "╘════════════╧════════╛\n"
     ]
    }
   ],
   "source": [
    "import utils\n",
    "\n",
    "# utils.clear_results()\n",
    "utils.display_results()"
   ]
  }
 ],
 "metadata": {
  "kernelspec": {
   "display_name": "impart",
   "language": "python",
   "name": "python3"
  },
  "language_info": {
   "codemirror_mode": {
    "name": "ipython",
    "version": 3
   },
   "file_extension": ".py",
   "mimetype": "text/x-python",
   "name": "python",
   "nbconvert_exporter": "python",
   "pygments_lexer": "ipython3",
   "version": "3.11.9"
  },
  "orig_nbformat": 4
 },
 "nbformat": 4,
 "nbformat_minor": 2
}
